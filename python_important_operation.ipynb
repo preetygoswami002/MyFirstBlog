{
  "nbformat": 4,
  "nbformat_minor": 0,
  "metadata": {
    "colab": {
      "name": "python important operation.ipynb",
      "provenance": [],
      "collapsed_sections": [],
      "authorship_tag": "ABX9TyMNqA7JTU2nhJ6Kohp/zN4Z",
      "include_colab_link": true
    },
    "kernelspec": {
      "name": "python3",
      "display_name": "Python 3"
    }
  },
  "cells": [
    {
      "cell_type": "markdown",
      "metadata": {
        "id": "view-in-github",
        "colab_type": "text"
      },
      "source": [
        "<a href=\"https://colab.research.google.com/github/preetygoswami002/MyFirstBlog/blob/master/python_important_operation.ipynb\" target=\"_parent\"><img src=\"https://colab.research.google.com/assets/colab-badge.svg\" alt=\"Open In Colab\"/></a>"
      ]
    },
    {
      "cell_type": "markdown",
      "metadata": {
        "id": "HUHh2AzEdCWa"
      },
      "source": [
        "#***Positional (arg) and keyword argumnet(kwargs)***\n",
        "\n",
        "positional can be used to send the list to a fucntion\n",
        "keyword argument can be used to send the dict to a function."
      ]
    },
    {
      "cell_type": "code",
      "metadata": {
        "id": "4E36Ax7pbP5f"
      },
      "source": [
        "def details(name,age=29):\n",
        "  print(name,age)"
      ],
      "execution_count": 1,
      "outputs": []
    },
    {
      "cell_type": "code",
      "metadata": {
        "colab": {
          "base_uri": "https://localhost:8080/"
        },
        "id": "7qQ0kp6sbmnO",
        "outputId": "487ec3ac-e9be-449a-ac81-62d58c9dcc1c"
      },
      "source": [
        "details('preety')"
      ],
      "execution_count": 3,
      "outputs": [
        {
          "output_type": "stream",
          "text": [
            "preety 29\n"
          ],
          "name": "stdout"
        }
      ]
    },
    {
      "cell_type": "code",
      "metadata": {
        "colab": {
          "base_uri": "https://localhost:8080/"
        },
        "id": "IyakAktGcLdJ",
        "outputId": "78e04375-c751-4d1f-c0df-35190408e7a6"
      },
      "source": [
        "def details(name,age=29):\n",
        "  print('My name is {} and age is {}'.format(name,age))\n",
        "\n",
        "details('preety',30)"
      ],
      "execution_count": 5,
      "outputs": [
        {
          "output_type": "stream",
          "text": [
            "My name is preety and age is 30\n"
          ],
          "name": "stdout"
        }
      ]
    },
    {
      "cell_type": "code",
      "metadata": {
        "id": "iDgFDw_De4y2"
      },
      "source": [
        "details1('preety','goswami',age=21,hight=5.6,weight=68)"
      ],
      "execution_count": null,
      "outputs": []
    },
    {
      "cell_type": "code",
      "metadata": {
        "colab": {
          "base_uri": "https://localhost:8080/"
        },
        "id": "ogL3v6ccb21T",
        "outputId": "f2a061b6-3b63-4474-87ea-aa3fb797a639"
      },
      "source": [
        "def details1(*arg,**kwargs):\n",
        "  print(arg)\n",
        "  print(kwargs)\n",
        "\n",
        "\n"
      ],
      "execution_count": 10,
      "outputs": [
        {
          "output_type": "stream",
          "text": [
            "('preety', 'goswami')\n",
            "{'age': 21, 'hight': 5.6, 'weight': 68}\n"
          ],
          "name": "stdout"
        }
      ]
    },
    {
      "cell_type": "code",
      "metadata": {
        "colab": {
          "base_uri": "https://localhost:8080/"
        },
        "id": "0IAmwj8IeIxR",
        "outputId": "930eee37-d3a4-4b6b-d118-336308dc27f0"
      },
      "source": [
        "l1=['preety','goswami','dav school','neeraj','jayyesh','penny']\n",
        "dict1={'age':29,'weight':68}\n",
        "details1(l1,dict1)"
      ],
      "execution_count": 11,
      "outputs": [
        {
          "output_type": "stream",
          "text": [
            "(['preety', 'goswami', 'dav school', 'neeraj', 'jayyesh', 'penny'], {'age': 29, 'weight': 68})\n",
            "{}\n"
          ],
          "name": "stdout"
        }
      ]
    },
    {
      "cell_type": "code",
      "metadata": {
        "id": "dBoDDWS1eKVL"
      },
      "source": [
        ""
      ],
      "execution_count": null,
      "outputs": []
    },
    {
      "cell_type": "code",
      "metadata": {
        "id": "tWaJ0QKA2TN6"
      },
      "source": [
        ""
      ],
      "execution_count": null,
      "outputs": []
    },
    {
      "cell_type": "markdown",
      "metadata": {
        "id": "YvZSqe_L2UBw"
      },
      "source": [
        "# lambda function \n",
        "A small anonymous function. A function with no name.A lambda function can take any number of arguments, but can only have one expression\n"
      ]
    },
    {
      "cell_type": "code",
      "metadata": {
        "id": "86QrMbeC2niY"
      },
      "source": [
        "def square(num):\n",
        "  return num*num\n"
      ],
      "execution_count": 1,
      "outputs": []
    },
    {
      "cell_type": "code",
      "metadata": {
        "colab": {
          "base_uri": "https://localhost:8080/"
        },
        "id": "IVkC9CWT21Cd",
        "outputId": "2a31114c-f8fc-4d41-8e0d-7cf6e934f07e"
      },
      "source": [
        "print(square(22))"
      ],
      "execution_count": 3,
      "outputs": [
        {
          "output_type": "stream",
          "text": [
            "484\n"
          ],
          "name": "stdout"
        }
      ]
    },
    {
      "cell_type": "code",
      "metadata": {
        "id": "zDrnn96l3Gr-"
      },
      "source": [
        "square=lambda x:x*x*x"
      ],
      "execution_count": 3,
      "outputs": []
    },
    {
      "cell_type": "code",
      "metadata": {
        "colab": {
          "base_uri": "https://localhost:8080/"
        },
        "id": "2ctUlgl8VRt1",
        "outputId": "216951cc-faa2-4126-fe75-32a080e73bb5"
      },
      "source": [
        "square(22)"
      ],
      "execution_count": 4,
      "outputs": [
        {
          "output_type": "execute_result",
          "data": {
            "text/plain": [
              "10648"
            ]
          },
          "metadata": {
            "tags": []
          },
          "execution_count": 4
        }
      ]
    },
    {
      "cell_type": "code",
      "metadata": {
        "id": "wFhkhaaDVis1"
      },
      "source": [
        "def even(num):\n",
        "  if num%2==0:\n",
        "    return True"
      ],
      "execution_count": 6,
      "outputs": []
    },
    {
      "cell_type": "code",
      "metadata": {
        "colab": {
          "base_uri": "https://localhost:8080/"
        },
        "id": "ycascSG7VtNF",
        "outputId": "0b3f0a2d-f796-4bf2-b1db-05ba3a9c6aed"
      },
      "source": [
        "even(43)"
      ],
      "execution_count": 10,
      "outputs": [
        {
          "output_type": "execute_result",
          "data": {
            "text/plain": [
              "False"
            ]
          },
          "metadata": {
            "tags": []
          },
          "execution_count": 10
        }
      ]
    },
    {
      "cell_type": "code",
      "metadata": {
        "id": "nRExJiISVy0R"
      },
      "source": [
        "even1=lambda x:x%2!=0"
      ],
      "execution_count": 13,
      "outputs": []
    },
    {
      "cell_type": "code",
      "metadata": {
        "colab": {
          "base_uri": "https://localhost:8080/"
        },
        "id": "WLQCJS6RWiwd",
        "outputId": "d180d32a-d60b-4c17-bdff-c03b1a5dda24"
      },
      "source": [
        "even1(33)"
      ],
      "execution_count": 14,
      "outputs": [
        {
          "output_type": "execute_result",
          "data": {
            "text/plain": [
              "True"
            ]
          },
          "metadata": {
            "tags": []
          },
          "execution_count": 14
        }
      ]
    },
    {
      "cell_type": "code",
      "metadata": {
        "id": "qNGskrdsWoHe"
      },
      "source": [
        ""
      ],
      "execution_count": null,
      "outputs": []
    },
    {
      "cell_type": "markdown",
      "metadata": {
        "id": "ZD9sQDJtciYl"
      },
      "source": [
        "##Map Function\n",
        "The map() function executes a specified function for each item in an iterable. The item is sent to the function as a parameter.\n",
        "\n",
        "map(func, *iterables) --> map object\n",
        "Make an iterator that computes the function using arguments from\n",
        "each of the iterables.  Stops when the shortest iterable is exhausted."
      ]
    },
    {
      "cell_type": "code",
      "metadata": {
        "colab": {
          "base_uri": "https://localhost:8080/"
        },
        "id": "gPVWYJZec6e5",
        "outputId": "347fc34d-113b-47ce-fa6b-e68bc239db50"
      },
      "source": [
        "list1=[1,2,3,4,5,6,7,8,9,12,1213,121334,3444,676,878]\n",
        "map(even,list1)"
      ],
      "execution_count": 23,
      "outputs": [
        {
          "output_type": "execute_result",
          "data": {
            "text/plain": [
              "<map at 0x7faa539fdda0>"
            ]
          },
          "metadata": {
            "tags": []
          },
          "execution_count": 23
        }
      ]
    },
    {
      "cell_type": "code",
      "metadata": {
        "colab": {
          "base_uri": "https://localhost:8080/"
        },
        "id": "8GJIZOjQd-p-",
        "outputId": "555b81b6-6096-4d02-c66c-eb25ba26a724"
      },
      "source": [
        "list(map(even,list1))"
      ],
      "execution_count": 26,
      "outputs": [
        {
          "output_type": "execute_result",
          "data": {
            "text/plain": [
              "[False,\n",
              " True,\n",
              " False,\n",
              " True,\n",
              " False,\n",
              " True,\n",
              " False,\n",
              " True,\n",
              " False,\n",
              " True,\n",
              " False,\n",
              " True,\n",
              " True,\n",
              " True,\n",
              " True]"
            ]
          },
          "metadata": {
            "tags": []
          },
          "execution_count": 26
        }
      ]
    },
    {
      "cell_type": "code",
      "metadata": {
        "colab": {
          "base_uri": "https://localhost:8080/"
        },
        "id": "w654OvWMeJaZ",
        "outputId": "e83b77ea-53e0-471b-84d7-0e5824edc6c8"
      },
      "source": [
        "map(square,list1)\n",
        "list(map(square,list1))"
      ],
      "execution_count": 19,
      "outputs": [
        {
          "output_type": "execute_result",
          "data": {
            "text/plain": [
              "[1, 8, 27, 64, 125]"
            ]
          },
          "metadata": {
            "tags": []
          },
          "execution_count": 19
        }
      ]
    },
    {
      "cell_type": "markdown",
      "metadata": {
        "id": "YXrq-ioCeoMg"
      },
      "source": [
        "#Filter method\n",
        "The filter() method constructs an iterator from elements of an iterable for which a function returns true. In simple words, filter() method filters the given iterable with the help of a function that tests each element in the iterable to be true or not. The syntax of filter() method is: filter(function, iterable)"
      ]
    },
    {
      "cell_type": "code",
      "metadata": {
        "colab": {
          "base_uri": "https://localhost:8080/"
        },
        "id": "89iX-r9TfZmG",
        "outputId": "50098b8b-45ac-473d-87ef-91010c50a100"
      },
      "source": [
        "list(filter(lambda x:x%2==0,list1))"
      ],
      "execution_count": 24,
      "outputs": [
        {
          "output_type": "execute_result",
          "data": {
            "text/plain": [
              "[2, 4, 6, 8, 12, 121334, 3444, 676, 878]"
            ]
          },
          "metadata": {
            "tags": []
          },
          "execution_count": 24
        }
      ]
    },
    {
      "cell_type": "code",
      "metadata": {
        "colab": {
          "base_uri": "https://localhost:8080/"
        },
        "id": "2reG1HDYgSmF",
        "outputId": "958096ec-6fd4-46bf-a0a5-243a80419cb8"
      },
      "source": [
        "list(filter(lambda x:x%2!=0,list1))"
      ],
      "execution_count": 25,
      "outputs": [
        {
          "output_type": "execute_result",
          "data": {
            "text/plain": [
              "[1, 3, 5, 7, 9, 1213]"
            ]
          },
          "metadata": {
            "tags": []
          },
          "execution_count": 25
        }
      ]
    },
    {
      "cell_type": "markdown",
      "metadata": {
        "id": "H0tCKYNHjdW9"
      },
      "source": [
        "#List comprehension\n",
        "List comprehensions are used for creating new lists from other iterables. As list comprehensions return lists, they consist of brackets containing the expression, which is executed for each element along with the for loop to iterate over each element."
      ]
    },
    {
      "cell_type": "code",
      "metadata": {
        "id": "JuD_twvsjh06"
      },
      "source": [
        "l3=[]\n",
        "def square1(l1):  \n",
        "  for l2 in l1:\n",
        "    if l2%2==0:\n",
        "      l3.append(l2*l2)\n",
        "  return l3"
      ],
      "execution_count": 13,
      "outputs": []
    },
    {
      "cell_type": "code",
      "metadata": {
        "colab": {
          "base_uri": "https://localhost:8080/"
        },
        "id": "4BsQsZTcp0BC",
        "outputId": "1353f63b-23ba-48fb-ba84-5cbb2142c974"
      },
      "source": [
        "l1=[1,2,3,4,5,6,7,8,9,0]\n",
        "square1(l1)"
      ],
      "execution_count": 14,
      "outputs": [
        {
          "output_type": "execute_result",
          "data": {
            "text/plain": [
              "[4, 16, 36, 64, 0]"
            ]
          },
          "metadata": {
            "tags": []
          },
          "execution_count": 14
        }
      ]
    },
    {
      "cell_type": "code",
      "metadata": {
        "colab": {
          "base_uri": "https://localhost:8080/"
        },
        "id": "lHBKqjKRqpBS",
        "outputId": "76288e7c-11c5-4a5e-e72a-4113948a674e"
      },
      "source": [
        "l1=[1,2,3,4,5,6,7,8,9,0]\n",
        "[l2*l2 for l2 in l1 if l2%2==0 ]"
      ],
      "execution_count": 15,
      "outputs": [
        {
          "output_type": "execute_result",
          "data": {
            "text/plain": [
              "[4, 16, 36, 64, 0]"
            ]
          },
          "metadata": {
            "tags": []
          },
          "execution_count": 15
        }
      ]
    },
    {
      "cell_type": "code",
      "metadata": {
        "colab": {
          "base_uri": "https://localhost:8080/"
        },
        "id": "XQcaHXmNsY0d",
        "outputId": "5dfdbb20-137f-4ed3-c34e-ae7ea6dba34e"
      },
      "source": [
        "list1=[1,2,3,4,5]\n",
        "[print('{} value is less then 5'.format(list_value)) for list_value in list1 if list_value > 5]"
      ],
      "execution_count": 19,
      "outputs": [
        {
          "output_type": "execute_result",
          "data": {
            "text/plain": [
              "[]"
            ]
          },
          "metadata": {
            "tags": []
          },
          "execution_count": 19
        }
      ]
    },
    {
      "cell_type": "code",
      "metadata": {
        "colab": {
          "base_uri": "https://localhost:8080/"
        },
        "id": "VkoJToAMtADS",
        "outputId": "b5d9af5f-8df1-4333-c549-7d3a174d54ed"
      },
      "source": [
        "print('my name is {name} and age is {age}'.format(age=29,name='preety'))"
      ],
      "execution_count": 23,
      "outputs": [
        {
          "output_type": "stream",
          "text": [
            "my name is preety and age is 29\n"
          ],
          "name": "stdout"
        }
      ]
    },
    {
      "cell_type": "markdown",
      "metadata": {
        "id": "0dD53zsi22x6"
      },
      "source": [
        "#Iterable vs Iterator"
      ]
    },
    {
      "cell_type": "code",
      "metadata": {
        "colab": {
          "base_uri": "https://localhost:8080/"
        },
        "id": "bgGjQuRw26L7",
        "outputId": "078ee1df-8a4f-454e-b462-8925044ae74d"
      },
      "source": [
        "list1=[1,2,3,4,5]\n",
        "for l1 in list1:\n",
        "  print(l1)"
      ],
      "execution_count": 24,
      "outputs": [
        {
          "output_type": "stream",
          "text": [
            "1\n",
            "2\n",
            "3\n",
            "4\n",
            "5\n"
          ],
          "name": "stdout"
        }
      ]
    },
    {
      "cell_type": "code",
      "metadata": {
        "id": "KfIS3h9d3DS6"
      },
      "source": [
        "list2=iter([1,2,3,4])\n"
      ],
      "execution_count": 33,
      "outputs": []
    },
    {
      "cell_type": "code",
      "metadata": {
        "colab": {
          "base_uri": "https://localhost:8080/"
        },
        "id": "RceQxhEc3lnG",
        "outputId": "c0078012-e6c1-467f-82a1-cc4949d7f40a"
      },
      "source": [
        "next(list2)\n"
      ],
      "execution_count": 36,
      "outputs": [
        {
          "output_type": "execute_result",
          "data": {
            "text/plain": [
              "3"
            ]
          },
          "metadata": {
            "tags": []
          },
          "execution_count": 36
        }
      ]
    }
  ]
}